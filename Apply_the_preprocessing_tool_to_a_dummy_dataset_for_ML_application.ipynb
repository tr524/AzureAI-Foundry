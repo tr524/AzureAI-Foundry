{
  "nbformat": 4,
  "nbformat_minor": 0,
  "metadata": {
    "colab": {
      "provenance": [],
      "authorship_tag": "ABX9TyOd6FsTC4ESVA8o09VTQFFy",
      "include_colab_link": true
    },
    "kernelspec": {
      "name": "python3",
      "display_name": "Python 3"
    },
    "language_info": {
      "name": "python"
    }
  },
  "cells": [
    {
      "cell_type": "markdown",
      "metadata": {
        "id": "view-in-github",
        "colab_type": "text"
      },
      "source": [
        "<a href=\"https://colab.research.google.com/github/tr524/AzureAI-Foundry/blob/main/Apply_the_preprocessing_tool_to_a_dummy_dataset_for_ML_application.ipynb\" target=\"_parent\"><img src=\"https://colab.research.google.com/assets/colab-badge.svg\" alt=\"Open In Colab\"/></a>"
      ]
    },
    {
      "cell_type": "markdown",
      "source": [
        "Now that you've set up your data preprocessing tool, it's time to put it to use. In this reading, we'll walk you through how to apply your tool to preprocess a set of dummy data, preparing it for ML applications. This practical example will demonstrate how to clean, handle missing values, manage outliers, scale, and encode your data, ensuring it’s ready for training an ML model.\n",
        "\n",
        "By the end of this activity, you will be able to:\n",
        "\n",
        "Load and create a dummy dataset for preprocessing.\n",
        "\n",
        "Apply data cleaning techniques to handle missing values and outliers.\n",
        "\n",
        "Scale numeric features and encode categorical variables for machine learning.\n",
        "\n",
        "Save the cleaned and preprocessed data for future use.\n",
        "\n",
        "1. Loading the dummy data\n",
        "First, let's create a set of dummy data that simulates a typical dataset you might encounter in an ML project. For this example, you will generate a DataFrame with numeric and categorical data, some missing values, and a few outliers.\n",
        "\n",
        "Step-by-step guide:\n",
        "Step 1: Generate and load the dummy data"
      ],
      "metadata": {
        "id": "-X7TRZkTALfP"
      }
    },
    {
      "cell_type": "code",
      "execution_count": null,
      "metadata": {
        "id": "pew4qavO_55r"
      },
      "outputs": [],
      "source": [
        "import pandas as pd\n",
        "import numpy as np\n",
        "\n",
        "# Create a dummy dataset\n",
        "np.random.seed(0)\n",
        "dummy_data = {\n",
        "    'Feature1': np.random.normal(100, 10, 100).tolist() + [np.nan, 200],  # Normally distributed with an outlier\n",
        "    'Feature2': np.random.randint(0, 100, 102).tolist(),  # Random integers\n",
        "    'Category': ['A', 'B', 'C', 'D'] * 25 + [np.nan, 'A'],  # Categorical with some missing values\n",
        "    'Target': np.random.choice([0, 1], 102).tolist()  # Binary target variable\n",
        "}\n",
        "\n",
        "# Convert the dictionary to a pandas DataFrame\n",
        "df_dummy = pd.DataFrame(dummy_data)\n",
        "\n",
        "# Display the first few rows of the dummy dataset\n",
        "print(df_dummy.head())"
      ]
    },
    {
      "cell_type": "markdown",
      "source": [
        "Explanation: This code generates a dummy dataset with 100 rows and 4 columns: two numeric features, one categorical feature, and a binary target variable. The dataset includes some missing values and an outlier to simulate real-world data challenges.\n",
        "\n",
        "2. Applying the preprocessing tool\n",
        "Next, use the preprocessing tool you set up in the previous lesson to clean and preprocess this dummy data, making it ready for ML.\n",
        "\n",
        "Step 2: Load the preprocessing tool\n",
        "Ensure your preprocessing functions are loaded into your environment. These functions include handling missing values, removing outliers, scaling data, and encoding categorical variables."
      ],
      "metadata": {
        "id": "j32bTarfAaw6"
      }
    },
    {
      "cell_type": "code",
      "source": [
        "def load_data(df):\n",
        "    return df\n",
        "\n",
        "def handle_missing_values(df):\n",
        "    return df.fillna(df.mean())  # For numeric data, fill missing values with the mean\n",
        "\n",
        "def remove_outliers(df):\n",
        "    z_scores = np.abs(stats.zscore(df.select_dtypes(include=[np.number])))\n",
        "    return df[(z_scores < 3).all(axis=1)]  # Remove rows with any outliers\n",
        "\n",
        "def scale_data(df):\n",
        "    scaler = StandardScaler()\n",
        "    df[df.select_dtypes(include=[np.number]).columns] = scaler.fit_transform(df.select_dtypes(include=[np.number]))\n",
        "    return df\n",
        "\n",
        "def encode_categorical(df, categorical_columns):\n",
        "    return pd.get_dummies(df, columns=categorical_columns)\n",
        "\n",
        "def save_data(df, output_filepath):\n",
        "    df.to_csv(output_filepath, index=False)"
      ],
      "metadata": {
        "id": "x7d3pzs4AfRE"
      },
      "execution_count": null,
      "outputs": []
    },
    {
      "cell_type": "markdown",
      "source": [
        "Explanation: These functions encapsulate the core preprocessing tasks, making them reusable across different datasets. They will be applied to our dummy data.\n",
        "\n",
        "Step 3: Preprocess the dummy data\n",
        "Apply the preprocessing tool to the dummy data:"
      ],
      "metadata": {
        "id": "2AsKldnCAiZ6"
      }
    },
    {
      "cell_type": "code",
      "source": [
        "# Load the data\n",
        "df_preprocessed = load_data(df_dummy)\n",
        "\n",
        "# Handle missing values\n",
        "df_preprocessed = handle_missing_values(df_preprocessed)\n",
        "\n",
        "# Remove outliers\n",
        "df_preprocessed = remove_outliers(df_preprocessed)\n",
        "\n",
        "# Scale the data\n",
        "df_preprocessed = scale_data(df_preprocessed)\n",
        "\n",
        "# Encode categorical variables\n",
        "df_preprocessed = encode_categorical(df_preprocessed, ['Category'])\n",
        "\n",
        "# Display the preprocessed data\n",
        "print(df_preprocessed.head())"
      ],
      "metadata": {
        "id": "7X0aeK8oAlMZ"
      },
      "execution_count": null,
      "outputs": []
    },
    {
      "cell_type": "markdown",
      "source": [
        "Explanation: This code applies the preprocessing steps to the dummy data. It handles missing values by filling them with the mean, removes outliers using the Z-score method, scales the numeric data, and encodes the categorical variables using one-hot encoding.\n",
        "\n",
        "3. Saving the preprocessed data\n",
        "Finally, save the preprocessed data to a new comma-separated values (CSV) file for use in ML tasks.\n",
        "\n",
        "Step 4: Save the preprocessed data"
      ],
      "metadata": {
        "id": "2MPBdxa3Aneg"
      }
    },
    {
      "cell_type": "code",
      "source": [
        "# Save the cleaned and preprocessed DataFrame to a CSV file\n",
        "save_data(df_preprocessed, 'preprocessed_dummy_data.csv')\n",
        "\n",
        "print('Preprocessing complete. Preprocessed data saved as preprocessed_dummy_data.csv')"
      ],
      "metadata": {
        "id": "WXhXMpJjArF_"
      },
      "execution_count": null,
      "outputs": []
    },
    {
      "cell_type": "markdown",
      "source": [
        "Explanation: Saving the preprocessed data to a new file ensures that it’s ready for use in training ML models. This step makes it easy to use the cleaned and processed data in future analysis or modeling efforts.\n",
        "\n",
        "4. Verifying the preprocessing steps\n",
        "After preprocessing, it’s important to verify that the data has been processed correctly:\n",
        "\n",
        "Check for missing values:"
      ],
      "metadata": {
        "id": "9yNf5P3GAtax"
      }
    },
    {
      "cell_type": "code",
      "source": [
        "print(df_preprocessed.isnull().sum())"
      ],
      "metadata": {
        "id": "jxllPKuoAwQq"
      },
      "execution_count": null,
      "outputs": []
    },
    {
      "cell_type": "markdown",
      "source": [
        "Explanation: This checks that all missing values. have been handled properly.\n",
        "\n",
        "Verify outlier removal:"
      ],
      "metadata": {
        "id": "9Axh7papAyg5"
      }
    },
    {
      "cell_type": "code",
      "source": [
        "print(df_preprocessed.describe())"
      ],
      "metadata": {
        "id": "rsyyWN2-A0sI"
      },
      "execution_count": null,
      "outputs": []
    },
    {
      "cell_type": "markdown",
      "source": [
        "Explanation: This summarizes the dataset and confirms that any extreme values (outliers). have been removed.\n",
        "\n",
        "Inspect scaled data:"
      ],
      "metadata": {
        "id": "z93eqN4kA2iy"
      }
    },
    {
      "cell_type": "code",
      "source": [
        "print(df_preprocessed.head())"
      ],
      "metadata": {
        "id": "PIJbW9ZzA41j"
      },
      "execution_count": null,
      "outputs": []
    },
    {
      "cell_type": "markdown",
      "source": [
        "Explanation: This ensures that the numeric features have been scaled properly, making them ready for ML algorithms.\n",
        "\n",
        "Check categorical encoding:"
      ],
      "metadata": {
        "id": "8DXDqmYLA6sa"
      }
    },
    {
      "cell_type": "code",
      "source": [
        "print(df_preprocessed.columns)"
      ],
      "metadata": {
        "id": "kLa_uF2xA8d8"
      },
      "execution_count": null,
      "outputs": []
    },
    {
      "cell_type": "markdown",
      "source": [
        "Explanation: This confirms that the categorical variables have been encoded into numerical values correctly.\n",
        "\n",
        "Conclusion\n",
        "By completing this activity, you have successfully used your data preprocessing tool to clean and prepare a set of dummy data for ML. This process included handling missing values, managing outliers, scaling numeric features, and encoding categorical variables. The preprocessed data is now ready for use in training ML models.\n",
        "\n",
        "As you continue to work with real-world datasets, this preprocessing tool will be invaluable in ensuring that your data is clean, consistent, and properly formatted, ultimately leading to better-performing models. Continue to refine and adapt this tool to suit the specific needs of your projects, and you'll be ready to handle the challenges of data preprocessing in any ML workflow."
      ],
      "metadata": {
        "id": "cde32_t_A-ae"
      }
    }
  ]
}